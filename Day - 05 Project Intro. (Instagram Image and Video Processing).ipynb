{
 "cells": [
  {
   "cell_type": "markdown",
   "id": "9032e49b",
   "metadata": {},
   "source": [
    "# 1. Renaming the Image Files"
   ]
  },
  {
   "cell_type": "code",
   "execution_count": 6,
   "id": "7852667a",
   "metadata": {},
   "outputs": [],
   "source": [
    "import os \n",
    "  \n",
    "# Function to rename multiple files \n",
    "def main(): \n",
    "  \n",
    "    for count, filename in enumerate(os.listdir('C:\\\\Users\\\\Dell\\\\Sciffer Analytics Internship\\\\insta_img\\\\')): \n",
    "        dst =\"insta_\" + str(int(count)+1) + \".jpg\"\n",
    "        src ='C:\\\\Users\\\\Dell\\\\Sciffer Analytics Internship\\\\insta_img\\\\'+ filename \n",
    "        dst ='C:\\\\Users\\\\Dell\\\\Sciffer Analytics Internship\\\\insta_img\\\\'+ dst \n",
    "          \n",
    "        # rename() function will \n",
    "        # rename all the files \n",
    "        os.rename(src, dst) \n",
    "  \n",
    "# Driver Code \n",
    "if __name__ == '__main__': \n",
    "      \n",
    "    # Calling main() function \n",
    "    main() "
   ]
  },
  {
   "cell_type": "markdown",
   "id": "fbc6b19a",
   "metadata": {},
   "source": [
    "# 2. Making Frames of Youtube Videos"
   ]
  },
  {
   "cell_type": "code",
   "execution_count": 4,
   "id": "847baf65",
   "metadata": {
    "scrolled": false
   },
   "outputs": [
    {
     "name": "stdout",
     "output_type": "stream",
     "text": [
      "Duration: 0:02:00.266667\n",
      "Extracting every 15 (nd/rd/th) frame would result in 241 images.\n",
      "Created the following directory: C:\\Users\\Dell\\Sciffer Analytics Internship\\insta_video/frames\n",
      "Duration: 0:01:11.200000\n",
      "Extracting every 15 (nd/rd/th) frame would result in 119 images.\n",
      "Duration: 0:01:42.100000\n",
      "Extracting every 15 (nd/rd/th) frame would result in 205 images.\n",
      "Duration: 0:01:22.466667\n",
      "Extracting every 15 (nd/rd/th) frame would result in 165 images.\n",
      "Duration: 0:01:02.956522\n",
      "Extracting every 15 (nd/rd/th) frame would result in 97 images.\n",
      "Duration: 0:01:06.500000\n",
      "Extracting every 15 (nd/rd/th) frame would result in 134 images.\n",
      "Duration: 0:00:15\n",
      "Extracting every 15 (nd/rd/th) frame would result in 26 images.\n",
      "Duration: 0:00:30\n",
      "Extracting every 15 (nd/rd/th) frame would result in 51 images.\n",
      "Duration: 0:00:30\n",
      "Extracting every 15 (nd/rd/th) frame would result in 51 images.\n",
      "Duration: 0:01:47.700000\n",
      "Extracting every 15 (nd/rd/th) frame would result in 216 images.\n"
     ]
    }
   ],
   "source": [
    "#from pytube import YouTube\n",
    "import time\n",
    "import os\n",
    "import math\n",
    "import datetime\n",
    "import cv2\n",
    "\n",
    "####################### making frames of vedios\n",
    "\n",
    "class FrameExtractor():\n",
    "    '''\n",
    "    Class used for extracting frames from a video file.\n",
    "    '''\n",
    "    def __init__(self, video_path):\n",
    "        self.video_path = video_path\n",
    "        self.vid_cap = cv2.VideoCapture(video_path)\n",
    "        self.n_frames = int(self.vid_cap.get(cv2.CAP_PROP_FRAME_COUNT))\n",
    "        self.fps = int(self.vid_cap.get(cv2.CAP_PROP_FPS))\n",
    "        \n",
    "    def get_video_duration(self):\n",
    "        duration = self.n_frames/self.fps\n",
    "        print(f'Duration: {datetime.timedelta(seconds=duration)}')\n",
    "        \n",
    "    def get_n_images(self, every_x_frame):\n",
    "        n_images = math.floor(self.n_frames / every_x_frame) + 1\n",
    "        print(f'Extracting every {every_x_frame} (nd/rd/th) frame would result in {n_images} images.')\n",
    "        \n",
    "    def extract_frames(self, every_x_frame, img_name, dest_path=None, img_ext = '.jpg'):\n",
    "        if not self.vid_cap.isOpened():\n",
    "            self.vid_cap = cv2.VideoCapture(self.video_path)\n",
    "        \n",
    "        if dest_path is None:\n",
    "            dest_path = os.getcwd()\n",
    "        else:\n",
    "            if not os.path.isdir(dest_path):\n",
    "                os.mkdir(dest_path)\n",
    "                print(f'Created the following directory: {dest_path}')\n",
    "        \n",
    "        frame_cnt = 0\n",
    "        img_cnt = 0\n",
    "\n",
    "        while self.vid_cap.isOpened():\n",
    "            \n",
    "            success,image = self.vid_cap.read() \n",
    "            \n",
    "            if not success:\n",
    "                break\n",
    "            \n",
    "            if frame_cnt % every_x_frame == 0:\n",
    "                img_path = os.path.join(dest_path, ''.join([img_name, '_', str(img_cnt), img_ext]))\n",
    "                cv2.imwrite(img_path, image)  \n",
    "                img_cnt += 1\n",
    "                \n",
    "            frame_cnt += 1\n",
    "        \n",
    "        self.vid_cap.release()\n",
    "        cv2.destroyAllWindows()\n",
    "#######################################loop on each downloaded vedio\n",
    "        \n",
    "dire='C:\\\\Users\\\\Dell\\\\Sciffer Analytics Internship\\\\insta_video'\n",
    "vedios=os.listdir(dire+'/'+'Downloads'+'/')\n",
    "for ind,vedio in enumerate(vedios):\n",
    "    try:\n",
    "        path=dire+'/'+'Downloads'+'/'+vedio\n",
    "        fe = FrameExtractor(path)\n",
    "        fe.get_video_duration()\n",
    "        fe.get_n_images(every_x_frame=15)\n",
    "        fe.extract_frames(every_x_frame=15, img_name=str(ind)+'KaluNew_',dest_path=dire+'/'+'frames')\n",
    "    except Exception as e:\n",
    "        print(e)\n",
    "  "
   ]
  },
  {
   "cell_type": "markdown",
   "id": "245856a9",
   "metadata": {},
   "source": [
    "# Thank You"
   ]
  }
 ],
 "metadata": {
  "kernelspec": {
   "display_name": "Python 3 (ipykernel)",
   "language": "python",
   "name": "python3"
  },
  "language_info": {
   "codemirror_mode": {
    "name": "ipython",
    "version": 3
   },
   "file_extension": ".py",
   "mimetype": "text/x-python",
   "name": "python",
   "nbconvert_exporter": "python",
   "pygments_lexer": "ipython3",
   "version": "3.10.2"
  }
 },
 "nbformat": 4,
 "nbformat_minor": 5
}
