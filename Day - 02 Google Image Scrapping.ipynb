{
 "cells": [
  {
   "cell_type": "markdown",
   "id": "0cb3f5db",
   "metadata": {},
   "source": [
    "# Image Scrapping from Google Image Search and download it into our local Computer.\n",
    "\n",
    "### 1. Downloaded Chromedriver and set a path in this jupyter notebook file\n",
    "### 2. Installed selenium library and imported webdriver"
   ]
  },
  {
   "cell_type": "code",
   "execution_count": 1,
   "id": "d1808a3d",
   "metadata": {},
   "outputs": [],
   "source": [
    "# https://chromedriver.chromium.org/downloads"
   ]
  },
  {
   "cell_type": "code",
   "execution_count": 10,
   "id": "b6f21be6",
   "metadata": {
    "scrolled": true
   },
   "outputs": [
    {
     "name": "stderr",
     "output_type": "stream",
     "text": [
      "C:\\Users\\Dell\\AppData\\Local\\Temp\\ipykernel_9024\\3096783753.py:4: DeprecationWarning: executable_path has been deprecated, please pass in a Service object\n",
      "  wd = webdriver.Chrome(executable_path=DRIVER_PATH)\n"
     ]
    }
   ],
   "source": [
    "# For Image Scrapping 'selenium' library is used here\n",
    "from selenium import webdriver\n",
    "DRIVER_PATH = \"C:/Users/Dell/Downloads/chromedriver_win32/chromedriver.exe\"\n",
    "wd = webdriver.Chrome(executable_path=DRIVER_PATH)"
   ]
  },
  {
   "cell_type": "code",
   "execution_count": 11,
   "id": "dd595a95",
   "metadata": {},
   "outputs": [],
   "source": [
    "# 'os' imported to create directory\n",
    "\n",
    "# 'time' imported to go to sleep after execution\n",
    "\n",
    "# 'io' imported to input scrapped file in our system\n",
    "\n",
    "# 'PIL(pillow)' imported to show images(load img,create new image)\n",
    "\n",
    "# 'hashlib' imported to create a hash function and encrypt the normal string to coded string\n",
    "\n",
    "# (the name of images can be shown in encrypted form)\n",
    "\n",
    "# 'requests' imported to make HTTP requests\n",
    "\n",
    "# 'BeautifulSoup' imported to pull/scrap data from HTML or XML"
   ]
  },
  {
   "cell_type": "code",
   "execution_count": 13,
   "id": "51817b4a",
   "metadata": {},
   "outputs": [],
   "source": [
    "# Importing necessary libraries\n",
    "import os                         \n",
    "import time                       \n",
    "import io                         \n",
    "from PIL import Image             \n",
    "import hashlib                     \n",
    "import requests                   \n",
    "from bs4 import BeautifulSoup     "
   ]
  },
  {
   "cell_type": "code",
   "execution_count": 14,
   "id": "25d22f88",
   "metadata": {},
   "outputs": [],
   "source": [
    "# Defining a function to fetch the image urls so that images could be downloaded\n",
    "\n",
    "def fetch_image_urls(query:str, max_links_to_fetch:int, wd:webdriver, sleep_between_interactions:int=1):\n",
    "    def scroll_to_end(wd):\n",
    "        wd.execute_script(\"window.scrollTo(0, document.body.scrollHeight);\")\n",
    "        time.sleep(sleep_between_interactions)    \n",
    "    \n",
    "    # build the google query\n",
    "    search_url = \"https://www.google.com/search?safe=off&site=&tbm=isch&source=hp&q={q}&oq={q}&gs_l=img\"\n",
    "\n",
    "    # load the page\n",
    "    wd.get(search_url.format(q=query))\n",
    "\n",
    "    image_urls = set()\n",
    "    image_count = 0\n",
    "    results_start = 0\n",
    "    while image_count < max_links_to_fetch:\n",
    "        scroll_to_end(wd)\n",
    "\n",
    "        # get all image thumbnail results\n",
    "        thumbnail_results = wd.find_elements_by_css_selector(\"img.Q4LuWd\")\n",
    "        number_results = len(thumbnail_results)\n",
    "        \n",
    "        print(f\"Found: {number_results} search results. Extracting links from {results_start}:{number_results}\")\n",
    "        \n",
    "        for img in thumbnail_results[results_start:number_results]:\n",
    "            # try to click every thumbnail such that we can get the real image behind it\n",
    "            try:\n",
    "                img.click()\n",
    "                time.sleep(sleep_between_interactions)\n",
    "            except Exception:\n",
    "                continue\n",
    "\n",
    "            # extract image urls    \n",
    "            actual_images = wd.find_elements_by_css_selector('img.n3VNCb')\n",
    "            for actual_image in actual_images:\n",
    "                if actual_image.get_attribute('src') and 'http' in actual_image.get_attribute('src'):\n",
    "                    image_urls.add(actual_image.get_attribute('src'))\n",
    "\n",
    "            image_count = len(image_urls)\n",
    "\n",
    "            if len(image_urls) >= max_links_to_fetch:\n",
    "                print(f\"Found: {len(image_urls)} image links, done!\")\n",
    "                break\n",
    "        else:\n",
    "            print(\"Found:\", len(image_urls), \"image links, looking for more ...\")\n",
    "            time.sleep(30)\n",
    "            return\n",
    "            load_more_button = wd.find_element_by_css_selector(\".mye4qd\")\n",
    "            if load_more_button:\n",
    "                wd.execute_script(\"document.querySelector('.mye4qd').click();\")\n",
    "\n",
    "        # move the result startpoint further down\n",
    "        results_start = len(thumbnail_results)\n",
    "\n",
    "    return image_urls\n"
   ]
  },
  {
   "cell_type": "code",
   "execution_count": 15,
   "id": "177617d7",
   "metadata": {},
   "outputs": [],
   "source": [
    "# Defining a function to save the downloaded images into our system\n",
    "def persist_image(folder_path:str,url:str):\n",
    "    try:\n",
    "        image_content = requests.get(url).content\n",
    "\n",
    "    except Exception as e:\n",
    "        print(f\"ERROR - Could not download {url} - {e}\")\n",
    "\n",
    "    try:\n",
    "        image_file = io.BytesIO(image_content)\n",
    "        image = Image.open(image_file).convert('RGB')\n",
    "        file_path = os.path.join(folder_path,hashlib.sha1(image_content).hexdigest()[:10] + '.jpg')\n",
    "        with open(file_path, 'wb') as f:\n",
    "            image.save(f, \"JPEG\", quality=100)\n",
    "        print(f\"SUCCESS - saved {url} - as {file_path}\")\n",
    "    except Exception as e:\n",
    "        print(f\"ERROR - Could not save {url} - {e}\")"
   ]
  },
  {
   "cell_type": "code",
   "execution_count": 17,
   "id": "14206935",
   "metadata": {},
   "outputs": [],
   "source": [
    "# Defining a function to search images according to search term(given by user) and download it into\n",
    "# our local computer(by the help of persist_image() function)\n",
    "\n",
    "def search_and_download(search_term:str,driver_path:str,target_path='./images',number_images=5):\n",
    "    target_folder = os.path.join(target_path,'_'.join(search_term.lower().split(' ')))\n",
    "\n",
    "    if not os.path.exists(target_folder):\n",
    "        os.makedirs(target_folder)\n",
    "\n",
    "    with webdriver.Chrome(executable_path=driver_path) as wd:\n",
    "        res = fetch_image_urls(search_term, number_images, wd=wd, sleep_between_interactions=0.5)\n",
    "        \n",
    "    for elem in res:\n",
    "        persist_image(target_folder,elem)"
   ]
  },
  {
   "cell_type": "code",
   "execution_count": 22,
   "id": "8014bcb3",
   "metadata": {
    "scrolled": false
   },
   "outputs": [
    {
     "name": "stderr",
     "output_type": "stream",
     "text": [
      "C:\\Users\\Dell\\AppData\\Local\\Temp\\ipykernel_9024\\1194074995.py:10: DeprecationWarning: executable_path has been deprecated, please pass in a Service object\n",
      "  with webdriver.Chrome(executable_path=driver_path) as wd:\n",
      "C:\\Users\\Dell\\AppData\\Local\\Temp\\ipykernel_9024\\600348362.py:23: DeprecationWarning: find_elements_by_css_selector is deprecated. Please use find_elements(by=By.CSS_SELECTOR, value=css_selector) instead\n",
      "  thumbnail_results = wd.find_elements_by_css_selector(\"img.Q4LuWd\")\n"
     ]
    },
    {
     "name": "stdout",
     "output_type": "stream",
     "text": [
      "Found: 100 search results. Extracting links from 0:100\n"
     ]
    },
    {
     "name": "stderr",
     "output_type": "stream",
     "text": [
      "C:\\Users\\Dell\\AppData\\Local\\Temp\\ipykernel_9024\\600348362.py:37: DeprecationWarning: find_elements_by_css_selector is deprecated. Please use find_elements(by=By.CSS_SELECTOR, value=css_selector) instead\n",
      "  actual_images = wd.find_elements_by_css_selector('img.n3VNCb')\n"
     ]
    },
    {
     "name": "stdout",
     "output_type": "stream",
     "text": [
      "Found: 5 image links, done!\n",
      "SUCCESS - saved https://cdn.wallpapersafari.com/78/71/BRL1nQ.jpg - as ./images\\orange_wallpapper\\0c5b06bdfe.jpg\n",
      "SUCCESS - saved https://encrypted-tbn0.gstatic.com/images?q=tbn:ANd9GcRcmRN2hqJxWQDni-5h_zXpwz85cHl1RLwmwA&usqp=CAU - as ./images\\orange_wallpapper\\e5fe9dfa25.jpg\n",
      "SUCCESS - saved https://encrypted-tbn0.gstatic.com/images?q=tbn:ANd9GcQRSWOaAsFoLxojCUYHALu7Ekky2-JL1zXUqw&usqp=CAU - as ./images\\orange_wallpapper\\7fd51287a2.jpg\n",
      "SUCCESS - saved https://encrypted-tbn0.gstatic.com/images?q=tbn:ANd9GcTmp0HedmuvMCNm6xwNpIRvey7ENs9gUEwfWg&usqp=CAU - as ./images\\orange_wallpapper\\4a65e7969e.jpg\n",
      "SUCCESS - saved https://wallpaperaccess.com/full/1152525.jpg - as ./images\\orange_wallpapper\\5be003ee1e.jpg\n"
     ]
    }
   ],
   "source": [
    "search_term=\"Orange Wallpapper\"\n",
    "search_and_download(search_term=search_term, driver_path=DRIVER_PATH)"
   ]
  },
  {
   "cell_type": "code",
   "execution_count": 23,
   "id": "13a62717",
   "metadata": {},
   "outputs": [],
   "source": [
    "# The images are downoloaded into following path of my computer\n",
    "\n",
    "# C:\\Users\\Dell\\Sciffer Analytics Internship\\images"
   ]
  }
 ],
 "metadata": {
  "kernelspec": {
   "display_name": "Python 3 (ipykernel)",
   "language": "python",
   "name": "python3"
  },
  "language_info": {
   "codemirror_mode": {
    "name": "ipython",
    "version": 3
   },
   "file_extension": ".py",
   "mimetype": "text/x-python",
   "name": "python",
   "nbconvert_exporter": "python",
   "pygments_lexer": "ipython3",
   "version": "3.10.2"
  }
 },
 "nbformat": 4,
 "nbformat_minor": 5
}
